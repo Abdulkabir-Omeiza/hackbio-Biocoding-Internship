{
 "cells": [
  {
   "cell_type": "code",
   "execution_count": 1,
   "id": "9ca5ccd5",
   "metadata": {},
   "outputs": [
    {
     "name": "stdout",
     "output_type": "stream",
     "text": [
      "{'Name': 'Abdulkabir Omeiza Abdulmalik', 'Slack Username': 'Abdulkabir', 'Email': 'abdulmalikabdulkabir2019@gmail.com', 'Hobby': 'Playing football aand taking nature walks', 'Countries': 'Nigeria and Germany', 'Discipline': 'Plant Microbial Ecology', 'Preferred Programming': 'Python'}\n"
     ]
    }
   ],
   "source": [
    "My_information = {\"Name\": \"Abdulkabir Omeiza Abdulmalik\", \n",
    "\"Slack Username\": \"Abdulkabir\",\n",
    " \"Email\": \"abdulmalikabdulkabir2019@gmail.com\",\n",
    " \"Hobby\": \"Playing football aand taking nature walks\", \n",
    " \"Countries\": \"Nigeria and Germany\",\n",
    " \"Discipline\": \"Plant Microbial Ecology\",\n",
    " \"Preferred Programming\": \"Python\"\n",
    "}\n",
    "\n",
    "print(My_information)"
   ]
  },
  {
   "cell_type": "code",
   "execution_count": null,
   "id": "e746e505",
   "metadata": {},
   "outputs": [],
   "source": []
  }
 ],
 "metadata": {
  "kernelspec": {
   "display_name": "Python 3 (ipykernel)",
   "language": "python",
   "name": "python3"
  },
  "language_info": {
   "codemirror_mode": {
    "name": "ipython",
    "version": 3
   },
   "file_extension": ".py",
   "mimetype": "text/x-python",
   "name": "python",
   "nbconvert_exporter": "python",
   "pygments_lexer": "ipython3",
   "version": "3.11.7"
  }
 },
 "nbformat": 4,
 "nbformat_minor": 5
}
